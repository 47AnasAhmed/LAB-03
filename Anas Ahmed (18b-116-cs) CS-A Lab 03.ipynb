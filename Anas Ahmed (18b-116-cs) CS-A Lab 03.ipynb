{
 "cells": [
  {
   "cell_type": "markdown",
   "metadata": {},
   "source": [
    "# Lab 03"
   ]
  },
  {
   "cell_type": "markdown",
   "metadata": {},
   "source": [
    "## Program 1\n",
    "Practicing with maths operator"
   ]
  },
  {
   "cell_type": "code",
   "execution_count": null,
   "metadata": {},
   "outputs": [],
   "source": [
    "a = 10\n",
    "b = 22\n"
   ]
  },
  {
   "cell_type": "code",
   "execution_count": 7,
   "metadata": {},
   "outputs": [
    {
     "name": "stdout",
     "output_type": "stream",
     "text": [
      "Sum is: 32\n",
      "Difference is: -12\n",
      "Product is: 220\n",
      "Division is: 0.45454545454545453\n",
      "Integer division is: 0\n",
      "Raised to the power is: 10000000000000000000000\n",
      "Remainder is: 10\n"
     ]
    }
   ],
   "source": [
    "# Using sum operator\n",
    "print(\"Sum is:\",a+b)\n",
    "#Using subtract operator\n",
    "print('Difference is:',a-b)\n",
    "#Using multiplication operator\n",
    "print('Product is:',a*b)\n",
    "#Using division operator\n",
    "print('Division is:',a/b)\n",
    "#Using integer division operator\n",
    "print('Integer division is:',a//b)\n",
    "#Using power operator\n",
    "print('Raised to the power is:',a**b)\n",
    "#Using moduler operator\n",
    "print('Remainder is:',a%b)"
   ]
  },
  {
   "cell_type": "markdown",
   "metadata": {},
   "source": [
    "## Program 2\n",
    "write a program to use assignment operators."
   ]
  },
  {
   "cell_type": "code",
   "execution_count": 15,
   "metadata": {},
   "outputs": [
    {
     "name": "stdout",
     "output_type": "stream",
     "text": [
      "Using +=: 8\n",
      "Using -=: 2\n",
      "Using *=: 15\n",
      "Using /=: 1.6666666666666667\n",
      "Using %=: 2\n",
      "Using //=: 1\n",
      "Using **=: 125\n",
      "Using &=: 1\n",
      "Using |=: 7\n",
      "Using ^=: 6\n",
      "Using >>=: 0\n",
      "Using <<=: 5\n"
     ]
    }
   ],
   "source": [
    "\n",
    "x = 5\n",
    "x += 3\n",
    "print('Using +=:',x)\n",
    "\n",
    "x = 5\n",
    "x -= 3\n",
    "print('Using -=:',x)\n",
    "\n",
    "x = 5\n",
    "x *= 3\n",
    "print('Using *=:',x)\n",
    "\n",
    "x = 5\n",
    "x/= 3\n",
    "print('Using /=:',x)\n",
    "\n",
    "x = 5\n",
    "x %= 3\n",
    "print('Using %=:',x)\n",
    "\n",
    "x = 5\n",
    "x //= 3\n",
    "print('Using //=:',x)\n",
    "\n",
    "x = 5\n",
    "x **= 3\n",
    "print('Using **=:',x)\n",
    "\n",
    "x = 5\n",
    "x &= 3\n",
    "print('Using &=:',x)\n",
    "\n",
    "x = 5\n",
    "x |= 3\n",
    "print('Using |=:',x)\n",
    "\n",
    "x = 5\n",
    "x ^= 3\n",
    "print('Using ^=:',x)\n",
    "\n",
    "x = 5\n",
    "x >>= 3\n",
    "print('Using >>=:',x)\n",
    "\n",
    "x = 5\n",
    "x << 3\n",
    "print('Using <<=:',x)"
   ]
  },
  {
   "cell_type": "markdown",
   "metadata": {},
   "source": [
    "## Program 3\n",
    "Program to perform comparision operators."
   ]
  },
  {
   "cell_type": "code",
   "execution_count": 11,
   "metadata": {},
   "outputs": [
    {
     "name": "stdout",
     "output_type": "stream",
     "text": [
      "X is equal to Y: False\n",
      "X is not equal to Y: True\n",
      "X is Greater than Y: True\n",
      "X is Less than Y: False\n",
      "X is Greater than or equal to Y: True\n",
      "X is Less than or equal to Y: False\n"
     ]
    }
   ],
   "source": [
    "x = 20\n",
    "y= 15\n",
    "\n",
    "print('X is equal to Y:',x==y)\n",
    "print('X is not equal to Y:',x!=y)\n",
    "print('X is Greater than Y:',x>y)\n",
    "print('X is Less than Y:',x<y)\n",
    "print('X is Greater than or equal to Y:',x>=y)\n",
    "print('X is Less than or equal to Y:',x<=y)"
   ]
  },
  {
   "cell_type": "markdown",
   "metadata": {},
   "source": [
    "## program 4\n",
    "Write a program to perform logical operators."
   ]
  },
  {
   "cell_type": "code",
   "execution_count": 16,
   "metadata": {},
   "outputs": [
    {
     "name": "stdout",
     "output_type": "stream",
     "text": [
      "True\n",
      "True\n",
      "False\n"
     ]
    }
   ],
   "source": [
    "x = 15\n",
    "print(x>13 and x<20)\n",
    "\n",
    "x = 25\n",
    "print(x>23 or x<24)\n",
    "\n",
    "x = 35\n",
    "print(not(x>33 and x <40))"
   ]
  },
  {
   "cell_type": "markdown",
   "metadata": {},
   "source": [
    "## Program 5\n",
    "Write a program to perform identity operator."
   ]
  },
  {
   "cell_type": "code",
   "execution_count": 17,
   "metadata": {},
   "outputs": [
    {
     "name": "stdout",
     "output_type": "stream",
     "text": [
      "True\n",
      "False\n",
      "True\n"
     ]
    }
   ],
   "source": [
    "x = ['ahmed','bashir']\n",
    "y = ['ahmed','bashir']\n",
    "z = x\n",
    "\n",
    "print(x is z)\n",
    "print(x is y)\n",
    "print(x==y)"
   ]
  },
  {
   "cell_type": "markdown",
   "metadata": {},
   "source": [
    "## Program 6\n",
    "Performing is not identity operation."
   ]
  },
  {
   "cell_type": "code",
   "execution_count": 20,
   "metadata": {},
   "outputs": [
    {
     "name": "stdout",
     "output_type": "stream",
     "text": [
      "False\n",
      "True\n",
      "False\n"
     ]
    }
   ],
   "source": [
    "x = [\"ahmed\",\"bashir\"]\n",
    "y = [\"ahmed\",\"bashir\"]\n",
    "z = x\n",
    "\n",
    "print(x is not z)\n",
    "print(x is not y)\n",
    "print(x <> y)"
   ]
  },
  {
   "cell_type": "markdown",
   "metadata": {},
   "source": [
    "## Program 7\n",
    "Performing \"in\" membership operation."
   ]
  },
  {
   "cell_type": "code",
   "execution_count": 22,
   "metadata": {},
   "outputs": [
    {
     "name": "stdout",
     "output_type": "stream",
     "text": [
      "True\n"
     ]
    }
   ],
   "source": [
    "x = [\"wasim\",\"lubaid\",\"shahroz\",\"usman\",\"faisal\",\"farhan\"]\n",
    "print(\"faisal\" in x)     "
   ]
  },
  {
   "cell_type": "markdown",
   "metadata": {},
   "source": [
    "## Program 8\n",
    "Performing \"not in\" membership operation."
   ]
  },
  {
   "cell_type": "code",
   "execution_count": 23,
   "metadata": {},
   "outputs": [
    {
     "name": "stdout",
     "output_type": "stream",
     "text": [
      "True\n"
     ]
    }
   ],
   "source": [
    "x = [\"wasim\",\"lubaid\",\"shahroz\",\"usman\",\"faisal\",\"farhan\"]\n",
    "\n",
    "print(\"parkash\" not in x)"
   ]
  },
  {
   "cell_type": "markdown",
   "metadata": {},
   "source": [
    "## Program 9\n",
    "You are planning to throw a small bird at a distance d, with time t, and height h to some structure. Write a code in which you will use the physical quantities such as initial velocity, final velocity, angle in radians, gravity, height, sling shot etc."
   ]
  },
  {
   "cell_type": "code",
   "execution_count": 28,
   "metadata": {},
   "outputs": [
    {
     "name": "stdout",
     "output_type": "stream",
     "text": [
      "Give me a velocity to fire at(in m/s):30\n",
      "Give me an angle to fire at:25\n",
      "Give me how far away you are from the structure(in metres):50\n",
      "Give me the height of the structure(in meters):20\n",
      "final Velocity is: 17.62254171434379 m/s\n"
     ]
    }
   ],
   "source": [
    "import math\n",
    "# User input\n",
    "velocity = float(input('Give me a velocity to fire at(in m/s):'))\n",
    "angle = float(input('Give me an angle to fire at:'))\n",
    "distance = float(input('Give me how far away you are from the structure(in metres):'))\n",
    "heoght = float(input('Give me the height of the structure(in meters):'))\n",
    "slingshot = 5 #Height of slingshot in meters\n",
    "gravity = 9.8 #Earth gravity\n",
    "\n",
    "# Converting angles to radians\n",
    "angleRad = math.radians(angle)\n",
    "\n",
    "# Computing our x and y coordinate\n",
    "x = math.cos(angleRad)\n",
    "y = math.sin(angleRad)\n",
    "\n",
    "# Calculations\n",
    "time = distance/(velocity *x)\n",
    "vx = x\n",
    "vy = y +(-9.8 * time)\n",
    "finalVelocity = math.sqrt((vx**2)+(vy**2))\n",
    "\n",
    "print('final Velocity is:',finalVelocity,'m/s')"
   ]
  },
  {
   "cell_type": "markdown",
   "metadata": {},
   "source": [
    "# Programming Exercise:"
   ]
  },
  {
   "cell_type": "markdown",
   "metadata": {},
   "source": [
    "## Question 1.\n",
    "A ball at the end of a string is revolving uniformly in a horizontal circle of radius 2 meters at constant angular speed 10 rad/s. Determine the magnitude of the linear velocity of a point located: (a) 0.5 meters from the center (b) 1 meter from the center (c) 2 meters from the center"
   ]
  },
  {
   "cell_type": "code",
   "execution_count": 1,
   "metadata": {},
   "outputs": [
    {
     "name": "stdout",
     "output_type": "stream",
     "text": [
      "The linear velocity with radius o.5 meters is: 5.0 m/s\n",
      "The linear velocity with radius 1 meters is: 10 m/s\n",
      "The linera velocity with radius 2 meters is: 20 m/s\n"
     ]
    }
   ],
   "source": [
    "import math\n",
    "\n",
    "#known\n",
    "r1 = 0.5\n",
    "r2 = 1\n",
    "r3 = 2\n",
    "w = 10\n",
    "\n",
    "#Calculation\n",
    "v1 = r1*w\n",
    "v2 = r2*w\n",
    "v3 = r3*w\n",
    "\n",
    "print('The linear velocity with radius o.5 meters is:',v1,'m/s')\n",
    "print('The linear velocity with radius 1 meters is:',v2,'m/s')\n",
    "print('The linera velocity with radius 2 meters is:',v3,'m/s')"
   ]
  },
  {
   "cell_type": "markdown",
   "metadata": {},
   "source": [
    "# Question 2.\n",
    "The blades in a blender rotate at a rate of 5000 rpm. Determine the magnitude of the linear velocity: (a) a point located 5 cm from the center (b) a point located 10 cm from the center"
   ]
  },
  {
   "cell_type": "code",
   "execution_count": 10,
   "metadata": {},
   "outputs": [
    {
     "name": "stdout",
     "output_type": "stream",
     "text": [
      "The linear velocity with radius 5 meters is: 2616.5 cm/s\n",
      "The linear velocity with radius 10 meters is: 5233.0 cm/s\n"
     ]
    }
   ],
   "source": [
    "import math\n",
    "\n",
    "#known\n",
    "r1 = 5 \n",
    "r2 = 10\n",
    "w = 523.3\n",
    "\n",
    "#calculation\n",
    "v1 = r1*w\n",
    "v2 = r2*w\n",
    "\n",
    "print('The linear velocity with radius 5 meters is:',v1,'cm/s')\n",
    "print('The linear velocity with radius 10 meters is:',v2,'cm/s')\n",
    "\n"
   ]
  },
  {
   "cell_type": "markdown",
   "metadata": {},
   "source": [
    "## Question 3.\n",
    "A point on the edge of a wheel 30 cm in radius, around a circle at constant speed 10 meters/second. What is the magnitude of the angular velocity?"
   ]
  },
  {
   "cell_type": "code",
   "execution_count": 11,
   "metadata": {},
   "outputs": [
    {
     "name": "stdout",
     "output_type": "stream",
     "text": [
      "The magnitude of angular velocity is: 33.333333333333336 rad/s\n"
     ]
    }
   ],
   "source": [
    "import math\n",
    "\n",
    "#Known\n",
    "r = 0.3 \n",
    "v = 10 \n",
    "\n",
    "#Calculations\n",
    "w = v/r\n",
    "\n",
    "print('The magnitude of angular velocity is:',w,'rad/s')\n"
   ]
  },
  {
   "cell_type": "markdown",
   "metadata": {},
   "source": [
    "## Question 4.\n",
    "A car with tires 50 cm in diameter travels 10 meters in 1 second. What is the angular speed?"
   ]
  },
  {
   "cell_type": "code",
   "execution_count": 14,
   "metadata": {},
   "outputs": [
    {
     "name": "stdout",
     "output_type": "stream",
     "text": [
      "The anguler velocity is: 40.0 rad/s\n"
     ]
    }
   ],
   "source": [
    "import math\n",
    "\n",
    "#Known\n",
    "r = 0.25 \n",
    "v = 10\n",
    "\n",
    "#Calculations\n",
    "w = v/r\n",
    "\n",
    "print('The anguler velocity is:',w,'rad/s')"
   ]
  },
  {
   "cell_type": "markdown",
   "metadata": {},
   "source": [
    "## Question 5.\n",
    "The angular speed of wheel 20 cm in radians is 120 rpm. What is the distance if the car travels in 10 seconds."
   ]
  },
  {
   "cell_type": "code",
   "execution_count": 15,
   "metadata": {},
   "outputs": [
    {
     "name": "stdout",
     "output_type": "stream",
     "text": [
      "The distance travelled in 10 seconds is: 25.120000000000005 meter\n"
     ]
    }
   ],
   "source": [
    "import math\n",
    "\n",
    "#known\n",
    "r = 0.2 \n",
    "w = 12.56\n",
    "t = 10\n",
    "\n",
    "#Calculation\n",
    "d = r*w*t\n",
    "\n",
    "print('The distance travelled in 10 seconds is:',d,'meter')\n"
   ]
  },
  {
   "cell_type": "markdown",
   "metadata": {},
   "source": [
    "## Question 6:\n",
    "A car is running at a velocity of 50 miles per hour and the driver accelerates the car by 10 miles/hr2. How far the car travels from this point in the next 2 hours, if the acceleration is constant."
   ]
  },
  {
   "cell_type": "code",
   "execution_count": 3,
   "metadata": {},
   "outputs": [
    {
     "name": "stdout",
     "output_type": "stream",
     "text": [
      "The Distance travelled in 2 hours is: 140 miles\n"
     ]
    }
   ],
   "source": [
    "import math\n",
    "\n",
    "#Known\n",
    "u = 50 \n",
    "a = 10\n",
    "t = 2\n",
    "\n",
    "#Calculations\n",
    "d = (u + a*t)*t\n",
    "\n",
    "print('The Distance travelled in 2 hours is:',d,'miles')"
   ]
  },
  {
   "cell_type": "markdown",
   "metadata": {},
   "source": [
    "## Question 7:\n",
    "A Stone is dropped freely from a height of 100 feet. With what velocity will it hit the ground? (Neglect the air resistance and assume the acceleration due to gravity is 32ft/s2)."
   ]
  },
  {
   "cell_type": "code",
   "execution_count": 5,
   "metadata": {},
   "outputs": [
    {
     "name": "stdout",
     "output_type": "stream",
     "text": [
      "The final velocity of stone will be: 80.0 ft/s\n"
     ]
    }
   ],
   "source": [
    "import math\n",
    "\n",
    "#Known\n",
    "u = 0\n",
    "s = 100\n",
    "a = 32\n",
    "\n",
    "#Calculations\n",
    "v = (2*a*s + u**2)**0.5\n",
    "\n",
    "print('The final velocity of stone will be:',v,'ft/s')"
   ]
  },
  {
   "cell_type": "code",
   "execution_count": null,
   "metadata": {},
   "outputs": [],
   "source": []
  }
 ],
 "metadata": {
  "kernelspec": {
   "display_name": "Python 3",
   "language": "python",
   "name": "python3"
  },
  "language_info": {
   "codemirror_mode": {
    "name": "ipython",
    "version": 3
   },
   "file_extension": ".py",
   "mimetype": "text/x-python",
   "name": "python",
   "nbconvert_exporter": "python",
   "pygments_lexer": "ipython3",
   "version": "3.7.0"
  }
 },
 "nbformat": 4,
 "nbformat_minor": 2
}
